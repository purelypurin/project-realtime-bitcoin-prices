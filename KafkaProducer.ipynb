{
 "cells": [
  {
   "cell_type": "code",
   "execution_count": 1,
   "id": "28101b54-8d0b-4965-a9e8-417fff8e3190",
   "metadata": {},
   "outputs": [],
   "source": [
    "import requests\n",
    "import pandas as pd\n",
    "from kafka import KafkaProducer\n",
    "from time import sleep\n",
    "from json import dumps\n",
    "import json"
   ]
  },
  {
   "cell_type": "code",
   "execution_count": 2,
   "id": "50f5e1b6-9fbd-41dc-ba1f-d62c5d16e9bd",
   "metadata": {},
   "outputs": [],
   "source": [
    "# Kafka Configuration\n",
    "kafka_topic = '' #your topic name\n",
    "producer = KafkaProducer(bootstrap_servers=['localhost:9092'], #your ip address\n",
    "                         value_serializer=lambda x:\n",
    "                         dumps(x).encode('utf-8'))"
   ]
  },
  {
   "cell_type": "code",
   "execution_count": 3,
   "id": "bbd13627-6e82-409f-8779-c02b9fc2c355",
   "metadata": {},
   "outputs": [],
   "source": [
    "# URL of the Bitcoin Price API\n",
    "api_url = \"https://api.coindesk.com/v1/bpi/currentprice/THB.json\""
   ]
  },
  {
   "cell_type": "code",
   "execution_count": 4,
   "id": "b2d84f8c-06cb-4cee-8345-5a9bcd3761f1",
   "metadata": {},
   "outputs": [],
   "source": [
    "#Collect data from url in json\n",
    "def fetch_bitcoin_price():\n",
    "    response = requests.get(api_url)\n",
    "    if response.status_code == 200:\n",
    "        return response.json()\n",
    "    else:\n",
    "        return None"
   ]
  },
  {
   "cell_type": "code",
   "execution_count": null,
   "id": "0f5fa8a2-81ba-4efa-a7b9-c516b3ace79d",
   "metadata": {},
   "outputs": [
    {
     "name": "stdout",
     "output_type": "stream",
     "text": [
      "Data sent to Kafka: {'time': {'updated': 'Nov 23, 2023 04:54:00 UTC', 'updatedISO': '2023-11-23T04:54:00+00:00', 'updateduk': 'Nov 23, 2023 at 04:54 GMT'}, 'disclaimer': 'This data was produced from the CoinDesk Bitcoin Price Index (USD). Non-USD currency data converted using hourly conversion rate from openexchangerates.org', 'bpi': {'USD': {'code': 'USD', 'rate': '37,346.9455', 'description': 'United States Dollar', 'rate_float': 37346.9455}, 'THB': {'code': 'THB', 'rate': '1,345,983.9509', 'description': 'Thai Baht', 'rate_float': 1345983.9509}}}\n",
      "Data sent to Kafka: {'time': {'updated': 'Nov 23, 2023 04:54:00 UTC', 'updatedISO': '2023-11-23T04:54:00+00:00', 'updateduk': 'Nov 23, 2023 at 04:54 GMT'}, 'disclaimer': 'This data was produced from the CoinDesk Bitcoin Price Index (USD). Non-USD currency data converted using hourly conversion rate from openexchangerates.org', 'bpi': {'USD': {'code': 'USD', 'rate': '37,346.9455', 'description': 'United States Dollar', 'rate_float': 37346.9455}, 'THB': {'code': 'THB', 'rate': '1,345,983.9509', 'description': 'Thai Baht', 'rate_float': 1345983.9509}}}\n",
      "Data sent to Kafka: {'time': {'updated': 'Nov 23, 2023 04:55:00 UTC', 'updatedISO': '2023-11-23T04:55:00+00:00', 'updateduk': 'Nov 23, 2023 at 04:55 GMT'}, 'disclaimer': 'This data was produced from the CoinDesk Bitcoin Price Index (USD). Non-USD currency data converted using hourly conversion rate from openexchangerates.org', 'bpi': {'USD': {'code': 'USD', 'rate': '37,345.2969', 'description': 'United States Dollar', 'rate_float': 37345.2969}, 'THB': {'code': 'THB', 'rate': '1,345,924.5324', 'description': 'Thai Baht', 'rate_float': 1345924.5324}}}\n",
      "Data sent to Kafka: {'time': {'updated': 'Nov 23, 2023 04:56:00 UTC', 'updatedISO': '2023-11-23T04:56:00+00:00', 'updateduk': 'Nov 23, 2023 at 04:56 GMT'}, 'disclaimer': 'This data was produced from the CoinDesk Bitcoin Price Index (USD). Non-USD currency data converted using hourly conversion rate from openexchangerates.org', 'bpi': {'USD': {'code': 'USD', 'rate': '37,329.2858', 'description': 'United States Dollar', 'rate_float': 37329.2858}, 'THB': {'code': 'THB', 'rate': '1,345,347.4938', 'description': 'Thai Baht', 'rate_float': 1345347.4938}}}\n",
      "Data sent to Kafka: {'time': {'updated': 'Nov 23, 2023 04:57:00 UTC', 'updatedISO': '2023-11-23T04:57:00+00:00', 'updateduk': 'Nov 23, 2023 at 04:57 GMT'}, 'disclaimer': 'This data was produced from the CoinDesk Bitcoin Price Index (USD). Non-USD currency data converted using hourly conversion rate from openexchangerates.org', 'bpi': {'USD': {'code': 'USD', 'rate': '37,332.5933', 'description': 'United States Dollar', 'rate_float': 37332.5933}, 'THB': {'code': 'THB', 'rate': '1,345,466.6951', 'description': 'Thai Baht', 'rate_float': 1345466.6951}}}\n",
      "Data sent to Kafka: {'time': {'updated': 'Nov 23, 2023 04:58:00 UTC', 'updatedISO': '2023-11-23T04:58:00+00:00', 'updateduk': 'Nov 23, 2023 at 04:58 GMT'}, 'disclaimer': 'This data was produced from the CoinDesk Bitcoin Price Index (USD). Non-USD currency data converted using hourly conversion rate from openexchangerates.org', 'bpi': {'USD': {'code': 'USD', 'rate': '37,331.4233', 'description': 'United States Dollar', 'rate_float': 37331.4233}, 'THB': {'code': 'THB', 'rate': '1,345,424.5279', 'description': 'Thai Baht', 'rate_float': 1345424.5279}}}\n",
      "Data sent to Kafka: {'time': {'updated': 'Nov 23, 2023 04:59:00 UTC', 'updatedISO': '2023-11-23T04:59:00+00:00', 'updateduk': 'Nov 23, 2023 at 04:59 GMT'}, 'disclaimer': 'This data was produced from the CoinDesk Bitcoin Price Index (USD). Non-USD currency data converted using hourly conversion rate from openexchangerates.org', 'bpi': {'USD': {'code': 'USD', 'rate': '37,324.5450', 'description': 'United States Dollar', 'rate_float': 37324.545}, 'THB': {'code': 'THB', 'rate': '1,345,176.6336', 'description': 'Thai Baht', 'rate_float': 1345176.6336}}}\n",
      "Data sent to Kafka: {'time': {'updated': 'Nov 23, 2023 05:00:00 UTC', 'updatedISO': '2023-11-23T05:00:00+00:00', 'updateduk': 'Nov 23, 2023 at 05:00 GMT'}, 'disclaimer': 'This data was produced from the CoinDesk Bitcoin Price Index (USD). Non-USD currency data converted using hourly conversion rate from openexchangerates.org', 'bpi': {'USD': {'code': 'USD', 'rate': '37,322.3694', 'description': 'United States Dollar', 'rate_float': 37322.3694}, 'THB': {'code': 'THB', 'rate': '1,345,098.2264', 'description': 'Thai Baht', 'rate_float': 1345098.2264}}}\n",
      "Data sent to Kafka: {'time': {'updated': 'Nov 23, 2023 05:02:00 UTC', 'updatedISO': '2023-11-23T05:02:00+00:00', 'updateduk': 'Nov 23, 2023 at 05:02 GMT'}, 'disclaimer': 'This data was produced from the CoinDesk Bitcoin Price Index (USD). Non-USD currency data converted using hourly conversion rate from openexchangerates.org', 'bpi': {'USD': {'code': 'USD', 'rate': '37,324.9894', 'description': 'United States Dollar', 'rate_float': 37324.9894}, 'THB': {'code': 'THB', 'rate': '1,345,192.6519', 'description': 'Thai Baht', 'rate_float': 1345192.6519}}}\n",
      "Data sent to Kafka: {'time': {'updated': 'Nov 23, 2023 05:02:00 UTC', 'updatedISO': '2023-11-23T05:02:00+00:00', 'updateduk': 'Nov 23, 2023 at 05:02 GMT'}, 'disclaimer': 'This data was produced from the CoinDesk Bitcoin Price Index (USD). Non-USD currency data converted using hourly conversion rate from openexchangerates.org', 'bpi': {'USD': {'code': 'USD', 'rate': '37,324.9894', 'description': 'United States Dollar', 'rate_float': 37324.9894}, 'THB': {'code': 'THB', 'rate': '1,345,192.6519', 'description': 'Thai Baht', 'rate_float': 1345192.6519}}}\n",
      "Data sent to Kafka: {'time': {'updated': 'Nov 23, 2023 05:03:00 UTC', 'updatedISO': '2023-11-23T05:03:00+00:00', 'updateduk': 'Nov 23, 2023 at 05:03 GMT'}, 'disclaimer': 'This data was produced from the CoinDesk Bitcoin Price Index (USD). Non-USD currency data converted using hourly conversion rate from openexchangerates.org', 'bpi': {'USD': {'code': 'USD', 'rate': '37,326.2725', 'description': 'United States Dollar', 'rate_float': 37326.2725}, 'THB': {'code': 'THB', 'rate': '1,345,238.8949', 'description': 'Thai Baht', 'rate_float': 1345238.8949}}}\n",
      "Data sent to Kafka: {'time': {'updated': 'Nov 23, 2023 05:04:00 UTC', 'updatedISO': '2023-11-23T05:04:00+00:00', 'updateduk': 'Nov 23, 2023 at 05:04 GMT'}, 'disclaimer': 'This data was produced from the CoinDesk Bitcoin Price Index (USD). Non-USD currency data converted using hourly conversion rate from openexchangerates.org', 'bpi': {'USD': {'code': 'USD', 'rate': '37,327.4016', 'description': 'United States Dollar', 'rate_float': 37327.4016}, 'THB': {'code': 'THB', 'rate': '1,345,279.5880', 'description': 'Thai Baht', 'rate_float': 1345279.588}}}\n",
      "Data sent to Kafka: {'time': {'updated': 'Nov 23, 2023 05:05:00 UTC', 'updatedISO': '2023-11-23T05:05:00+00:00', 'updateduk': 'Nov 23, 2023 at 05:05 GMT'}, 'disclaimer': 'This data was produced from the CoinDesk Bitcoin Price Index (USD). Non-USD currency data converted using hourly conversion rate from openexchangerates.org', 'bpi': {'USD': {'code': 'USD', 'rate': '37,317.6423', 'description': 'United States Dollar', 'rate_float': 37317.6423}, 'THB': {'code': 'THB', 'rate': '1,344,927.8614', 'description': 'Thai Baht', 'rate_float': 1344927.8614}}}\n",
      "Data sent to Kafka: {'time': {'updated': 'Nov 23, 2023 05:06:00 UTC', 'updatedISO': '2023-11-23T05:06:00+00:00', 'updateduk': 'Nov 23, 2023 at 05:06 GMT'}, 'disclaimer': 'This data was produced from the CoinDesk Bitcoin Price Index (USD). Non-USD currency data converted using hourly conversion rate from openexchangerates.org', 'bpi': {'USD': {'code': 'USD', 'rate': '37,335.7094', 'description': 'United States Dollar', 'rate_float': 37335.7094}, 'THB': {'code': 'THB', 'rate': '1,345,579.0000', 'description': 'Thai Baht', 'rate_float': 1345579}}}\n",
      "Data sent to Kafka: {'time': {'updated': 'Nov 23, 2023 05:07:00 UTC', 'updatedISO': '2023-11-23T05:07:00+00:00', 'updateduk': 'Nov 23, 2023 at 05:07 GMT'}, 'disclaimer': 'This data was produced from the CoinDesk Bitcoin Price Index (USD). Non-USD currency data converted using hourly conversion rate from openexchangerates.org', 'bpi': {'USD': {'code': 'USD', 'rate': '37,339.1819', 'description': 'United States Dollar', 'rate_float': 37339.1819}, 'THB': {'code': 'THB', 'rate': '1,345,704.1507', 'description': 'Thai Baht', 'rate_float': 1345704.1507}}}\n",
      "Data sent to Kafka: {'time': {'updated': 'Nov 23, 2023 05:08:00 UTC', 'updatedISO': '2023-11-23T05:08:00+00:00', 'updateduk': 'Nov 23, 2023 at 05:08 GMT'}, 'disclaimer': 'This data was produced from the CoinDesk Bitcoin Price Index (USD). Non-USD currency data converted using hourly conversion rate from openexchangerates.org', 'bpi': {'USD': {'code': 'USD', 'rate': '37,326.5476', 'description': 'United States Dollar', 'rate_float': 37326.5476}, 'THB': {'code': 'THB', 'rate': '1,345,248.8073', 'description': 'Thai Baht', 'rate_float': 1345248.8073}}}\n",
      "Data sent to Kafka: {'time': {'updated': 'Nov 23, 2023 05:09:00 UTC', 'updatedISO': '2023-11-23T05:09:00+00:00', 'updateduk': 'Nov 23, 2023 at 05:09 GMT'}, 'disclaimer': 'This data was produced from the CoinDesk Bitcoin Price Index (USD). Non-USD currency data converted using hourly conversion rate from openexchangerates.org', 'bpi': {'USD': {'code': 'USD', 'rate': '37,317.8734', 'description': 'United States Dollar', 'rate_float': 37317.8734}, 'THB': {'code': 'THB', 'rate': '1,344,936.1898', 'description': 'Thai Baht', 'rate_float': 1344936.1898}}}\n",
      "Data sent to Kafka: {'time': {'updated': 'Nov 23, 2023 05:10:00 UTC', 'updatedISO': '2023-11-23T05:10:00+00:00', 'updateduk': 'Nov 23, 2023 at 05:10 GMT'}, 'disclaimer': 'This data was produced from the CoinDesk Bitcoin Price Index (USD). Non-USD currency data converted using hourly conversion rate from openexchangerates.org', 'bpi': {'USD': {'code': 'USD', 'rate': '37,318.6188', 'description': 'United States Dollar', 'rate_float': 37318.6188}, 'THB': {'code': 'THB', 'rate': '1,344,963.0566', 'description': 'Thai Baht', 'rate_float': 1344963.0566}}}\n",
      "Data sent to Kafka: {'time': {'updated': 'Nov 23, 2023 05:11:00 UTC', 'updatedISO': '2023-11-23T05:11:00+00:00', 'updateduk': 'Nov 23, 2023 at 05:11 GMT'}, 'disclaimer': 'This data was produced from the CoinDesk Bitcoin Price Index (USD). Non-USD currency data converted using hourly conversion rate from openexchangerates.org', 'bpi': {'USD': {'code': 'USD', 'rate': '37,317.2674', 'description': 'United States Dollar', 'rate_float': 37317.2674}, 'THB': {'code': 'THB', 'rate': '1,344,914.3503', 'description': 'Thai Baht', 'rate_float': 1344914.3503}}}\n",
      "Data sent to Kafka: {'time': {'updated': 'Nov 23, 2023 05:12:00 UTC', 'updatedISO': '2023-11-23T05:12:00+00:00', 'updateduk': 'Nov 23, 2023 at 05:12 GMT'}, 'disclaimer': 'This data was produced from the CoinDesk Bitcoin Price Index (USD). Non-USD currency data converted using hourly conversion rate from openexchangerates.org', 'bpi': {'USD': {'code': 'USD', 'rate': '37,321.8727', 'description': 'United States Dollar', 'rate_float': 37321.8727}, 'THB': {'code': 'THB', 'rate': '1,345,080.3257', 'description': 'Thai Baht', 'rate_float': 1345080.3257}}}\n",
      "Data sent to Kafka: {'time': {'updated': 'Nov 23, 2023 05:13:00 UTC', 'updatedISO': '2023-11-23T05:13:00+00:00', 'updateduk': 'Nov 23, 2023 at 05:13 GMT'}, 'disclaimer': 'This data was produced from the CoinDesk Bitcoin Price Index (USD). Non-USD currency data converted using hourly conversion rate from openexchangerates.org', 'bpi': {'USD': {'code': 'USD', 'rate': '37,320.3599', 'description': 'United States Dollar', 'rate_float': 37320.3599}, 'THB': {'code': 'THB', 'rate': '1,345,025.8029', 'description': 'Thai Baht', 'rate_float': 1345025.8029}}}\n",
      "Data sent to Kafka: {'time': {'updated': 'Nov 23, 2023 05:14:00 UTC', 'updatedISO': '2023-11-23T05:14:00+00:00', 'updateduk': 'Nov 23, 2023 at 05:14 GMT'}, 'disclaimer': 'This data was produced from the CoinDesk Bitcoin Price Index (USD). Non-USD currency data converted using hourly conversion rate from openexchangerates.org', 'bpi': {'USD': {'code': 'USD', 'rate': '37,330.8279', 'description': 'United States Dollar', 'rate_float': 37330.8279}, 'THB': {'code': 'THB', 'rate': '1,345,403.0704', 'description': 'Thai Baht', 'rate_float': 1345403.0704}}}\n",
      "Data sent to Kafka: {'time': {'updated': 'Nov 23, 2023 05:15:00 UTC', 'updatedISO': '2023-11-23T05:15:00+00:00', 'updateduk': 'Nov 23, 2023 at 05:15 GMT'}, 'disclaimer': 'This data was produced from the CoinDesk Bitcoin Price Index (USD). Non-USD currency data converted using hourly conversion rate from openexchangerates.org', 'bpi': {'USD': {'code': 'USD', 'rate': '37,331.5737', 'description': 'United States Dollar', 'rate_float': 37331.5737}, 'THB': {'code': 'THB', 'rate': '1,345,429.9487', 'description': 'Thai Baht', 'rate_float': 1345429.9487}}}\n",
      "Data sent to Kafka: {'time': {'updated': 'Nov 23, 2023 05:16:00 UTC', 'updatedISO': '2023-11-23T05:16:00+00:00', 'updateduk': 'Nov 23, 2023 at 05:16 GMT'}, 'disclaimer': 'This data was produced from the CoinDesk Bitcoin Price Index (USD). Non-USD currency data converted using hourly conversion rate from openexchangerates.org', 'bpi': {'USD': {'code': 'USD', 'rate': '37,326.6447', 'description': 'United States Dollar', 'rate_float': 37326.6447}, 'THB': {'code': 'THB', 'rate': '1,345,252.3086', 'description': 'Thai Baht', 'rate_float': 1345252.3086}}}\n",
      "Data sent to Kafka: {'time': {'updated': 'Nov 23, 2023 05:17:00 UTC', 'updatedISO': '2023-11-23T05:17:00+00:00', 'updateduk': 'Nov 23, 2023 at 05:17 GMT'}, 'disclaimer': 'This data was produced from the CoinDesk Bitcoin Price Index (USD). Non-USD currency data converted using hourly conversion rate from openexchangerates.org', 'bpi': {'USD': {'code': 'USD', 'rate': '37,310.5880', 'description': 'United States Dollar', 'rate_float': 37310.588}, 'THB': {'code': 'THB', 'rate': '1,344,673.6240', 'description': 'Thai Baht', 'rate_float': 1344673.624}}}\n",
      "Data sent to Kafka: {'time': {'updated': 'Nov 23, 2023 05:18:00 UTC', 'updatedISO': '2023-11-23T05:18:00+00:00', 'updateduk': 'Nov 23, 2023 at 05:18 GMT'}, 'disclaimer': 'This data was produced from the CoinDesk Bitcoin Price Index (USD). Non-USD currency data converted using hourly conversion rate from openexchangerates.org', 'bpi': {'USD': {'code': 'USD', 'rate': '37,315.1710', 'description': 'United States Dollar', 'rate_float': 37315.171}, 'THB': {'code': 'THB', 'rate': '1,344,838.7957', 'description': 'Thai Baht', 'rate_float': 1344838.7957}}}\n",
      "Data sent to Kafka: {'time': {'updated': 'Nov 23, 2023 05:19:00 UTC', 'updatedISO': '2023-11-23T05:19:00+00:00', 'updateduk': 'Nov 23, 2023 at 05:19 GMT'}, 'disclaimer': 'This data was produced from the CoinDesk Bitcoin Price Index (USD). Non-USD currency data converted using hourly conversion rate from openexchangerates.org', 'bpi': {'USD': {'code': 'USD', 'rate': '37,320.7887', 'description': 'United States Dollar', 'rate_float': 37320.7887}, 'THB': {'code': 'THB', 'rate': '1,345,041.2594', 'description': 'Thai Baht', 'rate_float': 1345041.2594}}}\n",
      "Data sent to Kafka: {'time': {'updated': 'Nov 23, 2023 05:20:00 UTC', 'updatedISO': '2023-11-23T05:20:00+00:00', 'updateduk': 'Nov 23, 2023 at 05:20 GMT'}, 'disclaimer': 'This data was produced from the CoinDesk Bitcoin Price Index (USD). Non-USD currency data converted using hourly conversion rate from openexchangerates.org', 'bpi': {'USD': {'code': 'USD', 'rate': '37,313.8448', 'description': 'United States Dollar', 'rate_float': 37313.8448}, 'THB': {'code': 'THB', 'rate': '1,344,790.9984', 'description': 'Thai Baht', 'rate_float': 1344790.9984}}}\n",
      "Data sent to Kafka: {'time': {'updated': 'Nov 23, 2023 05:21:00 UTC', 'updatedISO': '2023-11-23T05:21:00+00:00', 'updateduk': 'Nov 23, 2023 at 05:21 GMT'}, 'disclaimer': 'This data was produced from the CoinDesk Bitcoin Price Index (USD). Non-USD currency data converted using hourly conversion rate from openexchangerates.org', 'bpi': {'USD': {'code': 'USD', 'rate': '37,334.5957', 'description': 'United States Dollar', 'rate_float': 37334.5957}, 'THB': {'code': 'THB', 'rate': '1,345,538.8623', 'description': 'Thai Baht', 'rate_float': 1345538.8623}}}\n",
      "Data sent to Kafka: {'time': {'updated': 'Nov 23, 2023 05:22:00 UTC', 'updatedISO': '2023-11-23T05:22:00+00:00', 'updateduk': 'Nov 23, 2023 at 05:22 GMT'}, 'disclaimer': 'This data was produced from the CoinDesk Bitcoin Price Index (USD). Non-USD currency data converted using hourly conversion rate from openexchangerates.org', 'bpi': {'USD': {'code': 'USD', 'rate': '37,333.1275', 'description': 'United States Dollar', 'rate_float': 37333.1275}, 'THB': {'code': 'THB', 'rate': '1,345,485.9494', 'description': 'Thai Baht', 'rate_float': 1345485.9494}}}\n",
      "Data sent to Kafka: {'time': {'updated': 'Nov 23, 2023 05:23:00 UTC', 'updatedISO': '2023-11-23T05:23:00+00:00', 'updateduk': 'Nov 23, 2023 at 05:23 GMT'}, 'disclaimer': 'This data was produced from the CoinDesk Bitcoin Price Index (USD). Non-USD currency data converted using hourly conversion rate from openexchangerates.org', 'bpi': {'USD': {'code': 'USD', 'rate': '37,340.5618', 'description': 'United States Dollar', 'rate_float': 37340.5618}, 'THB': {'code': 'THB', 'rate': '1,345,753.8809', 'description': 'Thai Baht', 'rate_float': 1345753.8809}}}\n",
      "Data sent to Kafka: {'time': {'updated': 'Nov 23, 2023 05:24:00 UTC', 'updatedISO': '2023-11-23T05:24:00+00:00', 'updateduk': 'Nov 23, 2023 at 05:24 GMT'}, 'disclaimer': 'This data was produced from the CoinDesk Bitcoin Price Index (USD). Non-USD currency data converted using hourly conversion rate from openexchangerates.org', 'bpi': {'USD': {'code': 'USD', 'rate': '37,335.2067', 'description': 'United States Dollar', 'rate_float': 37335.2067}, 'THB': {'code': 'THB', 'rate': '1,345,560.8842', 'description': 'Thai Baht', 'rate_float': 1345560.8842}}}\n",
      "Data sent to Kafka: {'time': {'updated': 'Nov 23, 2023 05:25:00 UTC', 'updatedISO': '2023-11-23T05:25:00+00:00', 'updateduk': 'Nov 23, 2023 at 05:25 GMT'}, 'disclaimer': 'This data was produced from the CoinDesk Bitcoin Price Index (USD). Non-USD currency data converted using hourly conversion rate from openexchangerates.org', 'bpi': {'USD': {'code': 'USD', 'rate': '37,338.1052', 'description': 'United States Dollar', 'rate_float': 37338.1052}, 'THB': {'code': 'THB', 'rate': '1,345,665.3461', 'description': 'Thai Baht', 'rate_float': 1345665.3461}}}\n",
      "Data sent to Kafka: {'time': {'updated': 'Nov 23, 2023 05:26:00 UTC', 'updatedISO': '2023-11-23T05:26:00+00:00', 'updateduk': 'Nov 23, 2023 at 05:26 GMT'}, 'disclaimer': 'This data was produced from the CoinDesk Bitcoin Price Index (USD). Non-USD currency data converted using hourly conversion rate from openexchangerates.org', 'bpi': {'USD': {'code': 'USD', 'rate': '37,345.6345', 'description': 'United States Dollar', 'rate_float': 37345.6345}, 'THB': {'code': 'THB', 'rate': '1,345,936.7024', 'description': 'Thai Baht', 'rate_float': 1345936.7024}}}\n",
      "Data sent to Kafka: {'time': {'updated': 'Nov 23, 2023 05:27:00 UTC', 'updatedISO': '2023-11-23T05:27:00+00:00', 'updateduk': 'Nov 23, 2023 at 05:27 GMT'}, 'disclaimer': 'This data was produced from the CoinDesk Bitcoin Price Index (USD). Non-USD currency data converted using hourly conversion rate from openexchangerates.org', 'bpi': {'USD': {'code': 'USD', 'rate': '37,349.9471', 'description': 'United States Dollar', 'rate_float': 37349.9471}, 'THB': {'code': 'THB', 'rate': '1,346,092.1278', 'description': 'Thai Baht', 'rate_float': 1346092.1278}}}\n",
      "Data sent to Kafka: {'time': {'updated': 'Nov 23, 2023 05:28:00 UTC', 'updatedISO': '2023-11-23T05:28:00+00:00', 'updateduk': 'Nov 23, 2023 at 05:28 GMT'}, 'disclaimer': 'This data was produced from the CoinDesk Bitcoin Price Index (USD). Non-USD currency data converted using hourly conversion rate from openexchangerates.org', 'bpi': {'USD': {'code': 'USD', 'rate': '37,360.1610', 'description': 'United States Dollar', 'rate_float': 37360.161}, 'THB': {'code': 'THB', 'rate': '1,346,460.2364', 'description': 'Thai Baht', 'rate_float': 1346460.2364}}}\n",
      "Data sent to Kafka: {'time': {'updated': 'Nov 23, 2023 05:29:00 UTC', 'updatedISO': '2023-11-23T05:29:00+00:00', 'updateduk': 'Nov 23, 2023 at 05:29 GMT'}, 'disclaimer': 'This data was produced from the CoinDesk Bitcoin Price Index (USD). Non-USD currency data converted using hourly conversion rate from openexchangerates.org', 'bpi': {'USD': {'code': 'USD', 'rate': '37,338.4422', 'description': 'United States Dollar', 'rate_float': 37338.4422}, 'THB': {'code': 'THB', 'rate': '1,345,677.4909', 'description': 'Thai Baht', 'rate_float': 1345677.4909}}}\n",
      "Data sent to Kafka: {'time': {'updated': 'Nov 23, 2023 05:30:00 UTC', 'updatedISO': '2023-11-23T05:30:00+00:00', 'updateduk': 'Nov 23, 2023 at 05:30 GMT'}, 'disclaimer': 'This data was produced from the CoinDesk Bitcoin Price Index (USD). Non-USD currency data converted using hourly conversion rate from openexchangerates.org', 'bpi': {'USD': {'code': 'USD', 'rate': '37,360.6647', 'description': 'United States Dollar', 'rate_float': 37360.6647}, 'THB': {'code': 'THB', 'rate': '1,346,478.3883', 'description': 'Thai Baht', 'rate_float': 1346478.3883}}}\n",
      "Data sent to Kafka: {'time': {'updated': 'Nov 23, 2023 05:31:00 UTC', 'updatedISO': '2023-11-23T05:31:00+00:00', 'updateduk': 'Nov 23, 2023 at 05:31 GMT'}, 'disclaimer': 'This data was produced from the CoinDesk Bitcoin Price Index (USD). Non-USD currency data converted using hourly conversion rate from openexchangerates.org', 'bpi': {'USD': {'code': 'USD', 'rate': '37,392.1386', 'description': 'United States Dollar', 'rate_float': 37392.1386}, 'THB': {'code': 'THB', 'rate': '1,347,612.7074', 'description': 'Thai Baht', 'rate_float': 1347612.7074}}}\n",
      "Data sent to Kafka: {'time': {'updated': 'Nov 23, 2023 05:32:00 UTC', 'updatedISO': '2023-11-23T05:32:00+00:00', 'updateduk': 'Nov 23, 2023 at 05:32 GMT'}, 'disclaimer': 'This data was produced from the CoinDesk Bitcoin Price Index (USD). Non-USD currency data converted using hourly conversion rate from openexchangerates.org', 'bpi': {'USD': {'code': 'USD', 'rate': '37,381.1782', 'description': 'United States Dollar', 'rate_float': 37381.1782}, 'THB': {'code': 'THB', 'rate': '1,347,217.6949', 'description': 'Thai Baht', 'rate_float': 1347217.6949}}}\n",
      "Data sent to Kafka: {'time': {'updated': 'Nov 23, 2023 05:33:00 UTC', 'updatedISO': '2023-11-23T05:33:00+00:00', 'updateduk': 'Nov 23, 2023 at 05:33 GMT'}, 'disclaimer': 'This data was produced from the CoinDesk Bitcoin Price Index (USD). Non-USD currency data converted using hourly conversion rate from openexchangerates.org', 'bpi': {'USD': {'code': 'USD', 'rate': '37,375.8711', 'description': 'United States Dollar', 'rate_float': 37375.8711}, 'THB': {'code': 'THB', 'rate': '1,347,026.4292', 'description': 'Thai Baht', 'rate_float': 1347026.4292}}}\n",
      "Data sent to Kafka: {'time': {'updated': 'Nov 23, 2023 05:35:00 UTC', 'updatedISO': '2023-11-23T05:35:00+00:00', 'updateduk': 'Nov 23, 2023 at 05:35 GMT'}, 'disclaimer': 'This data was produced from the CoinDesk Bitcoin Price Index (USD). Non-USD currency data converted using hourly conversion rate from openexchangerates.org', 'bpi': {'USD': {'code': 'USD', 'rate': '37,351.4314', 'description': 'United States Dollar', 'rate_float': 37351.4314}, 'THB': {'code': 'THB', 'rate': '1,346,145.6206', 'description': 'Thai Baht', 'rate_float': 1346145.6206}}}\n",
      "Data sent to Kafka: {'time': {'updated': 'Nov 23, 2023 05:36:00 UTC', 'updatedISO': '2023-11-23T05:36:00+00:00', 'updateduk': 'Nov 23, 2023 at 05:36 GMT'}, 'disclaimer': 'This data was produced from the CoinDesk Bitcoin Price Index (USD). Non-USD currency data converted using hourly conversion rate from openexchangerates.org', 'bpi': {'USD': {'code': 'USD', 'rate': '37,359.5874', 'description': 'United States Dollar', 'rate_float': 37359.5874}, 'THB': {'code': 'THB', 'rate': '1,346,439.5617', 'description': 'Thai Baht', 'rate_float': 1346439.5617}}}\n"
     ]
    }
   ],
   "source": [
    "#Loop and send data through kafka process\n",
    "#Collect data every 60 sec\n",
    "while True:\n",
    "    data = fetch_bitcoin_price()\n",
    "    if data:\n",
    "        producer.send(kafka_topic, value=data)\n",
    "        print(\"Data sent to Kafka:\", data)\n",
    "    else:\n",
    "        print(\"Failed to fetch data\")\n",
    "    sleep(60)"
   ]
  },
  {
   "cell_type": "code",
   "execution_count": null,
   "id": "0ca71417-fd01-4853-a787-deb156b2eee7",
   "metadata": {},
   "outputs": [],
   "source": []
  }
 ],
 "metadata": {
  "kernelspec": {
   "display_name": "Python 3 (ipykernel)",
   "language": "python",
   "name": "python3"
  },
  "language_info": {
   "codemirror_mode": {
    "name": "ipython",
    "version": 3
   },
   "file_extension": ".py",
   "mimetype": "text/x-python",
   "name": "python",
   "nbconvert_exporter": "python",
   "pygments_lexer": "ipython3",
   "version": "3.10.6"
  }
 },
 "nbformat": 4,
 "nbformat_minor": 5
}
